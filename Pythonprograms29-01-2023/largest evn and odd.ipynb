{
 "cells": [
  {
   "cell_type": "code",
   "execution_count": 7,
   "metadata": {},
   "outputs": [
    {
     "name": "stdout",
     "output_type": "stream",
     "text": [
      "Even: [2, 4, 6, 64, 98]\n",
      "Odd: [1, 3, 5, 7, 43, 65, 87]\n",
      "Largest in even:  98\n",
      "Largest in odd:  87\n"
     ]
    }
   ],
   "source": [
    "a=list(map(int,input(\"enter the list: \").split()))\n",
    "evn=[]\n",
    "odd=[]\n",
    "\n",
    "\n",
    "for i in a:\n",
    "    if i%2==0:\n",
    "        evn=evn+[i]\n",
    "    else:\n",
    "        odd=odd+[i]\n",
    "evn.sort()\n",
    "odd.sort()\n",
    "print(\"Even:\",evn)\n",
    "print(\"Odd:\",odd)\n",
    "print(\"Largest in even: \",evn[-1])\n",
    "print(\"Largest in odd: \",odd[-1])"
   ]
  }
 ],
 "metadata": {
  "kernelspec": {
   "display_name": "Python 3.11.0 64-bit",
   "language": "python",
   "name": "python3"
  },
  "language_info": {
   "codemirror_mode": {
    "name": "ipython",
    "version": 3
   },
   "file_extension": ".py",
   "mimetype": "text/x-python",
   "name": "python",
   "nbconvert_exporter": "python",
   "pygments_lexer": "ipython3",
   "version": "3.11.0"
  },
  "orig_nbformat": 4,
  "vscode": {
   "interpreter": {
    "hash": "b699fa70f87e1ba39a363346864982e81fcc748143927c3e75552fb05836a65a"
   }
  }
 },
 "nbformat": 4,
 "nbformat_minor": 2
}
