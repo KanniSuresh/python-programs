{
 "cells": [
  {
   "cell_type": "code",
   "execution_count": 9,
   "metadata": {},
   "outputs": [
    {
     "name": "stdout",
     "output_type": "stream",
     "text": [
      "key exists in the dictionary\n"
     ]
    }
   ],
   "source": [
    "a={\"apple\": \"fruits\", \"tomato\":\"vegebat\", \"juice\":\"lemon\"}\n",
    "g=input()\n",
    "if g in a.keys():\n",
    "    print(\"key exists in the dictionary\")\n",
    "else:\n",
    "    print(\"key doesnot exist\")"
   ]
  },
  {
   "cell_type": "code",
   "execution_count": null,
   "metadata": {},
   "outputs": [],
   "source": []
  }
 ],
 "metadata": {
  "kernelspec": {
   "display_name": "Python 3.11.0 64-bit",
   "language": "python",
   "name": "python3"
  },
  "language_info": {
   "codemirror_mode": {
    "name": "ipython",
    "version": 3
   },
   "file_extension": ".py",
   "mimetype": "text/x-python",
   "name": "python",
   "nbconvert_exporter": "python",
   "pygments_lexer": "ipython3",
   "version": "3.11.0"
  },
  "orig_nbformat": 4,
  "vscode": {
   "interpreter": {
    "hash": "b699fa70f87e1ba39a363346864982e81fcc748143927c3e75552fb05836a65a"
   }
  }
 },
 "nbformat": 4,
 "nbformat_minor": 2
}
