{
 "cells": [
  {
   "cell_type": "code",
   "execution_count": 1,
   "metadata": {},
   "outputs": [
    {
     "name": "stdout",
     "output_type": "stream",
     "text": [
      "length of the given string: 9\n"
     ]
    }
   ],
   "source": [
    "str=input()\n",
    "count=0\n",
    "for i in str:\n",
    "    count=count+1\n",
    "print(\"length of the given string:\",count)\n",
    "\n",
    "    "
   ]
  }
 ],
 "metadata": {
  "kernelspec": {
   "display_name": "Python 3.11.0 64-bit",
   "language": "python",
   "name": "python3"
  },
  "language_info": {
   "codemirror_mode": {
    "name": "ipython",
    "version": 3
   },
   "file_extension": ".py",
   "mimetype": "text/x-python",
   "name": "python",
   "nbconvert_exporter": "python",
   "pygments_lexer": "ipython3",
   "version": "3.11.0"
  },
  "orig_nbformat": 4,
  "vscode": {
   "interpreter": {
    "hash": "b699fa70f87e1ba39a363346864982e81fcc748143927c3e75552fb05836a65a"
   }
  }
 },
 "nbformat": 4,
 "nbformat_minor": 2
}
