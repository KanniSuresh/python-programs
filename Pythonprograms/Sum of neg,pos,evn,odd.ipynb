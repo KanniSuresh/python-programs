{
 "cells": [
  {
   "cell_type": "code",
   "execution_count": 3,
   "metadata": {},
   "outputs": [
    {
     "name": "stdout",
     "output_type": "stream",
     "text": [
      "Sum of Negative no: -4\n",
      "Sum of Odd No: 4\n",
      "Sum of Positive no: 6\n"
     ]
    }
   ],
   "source": [
    "a=list(map(int,input(\"Enter the list:\").split()))\n",
    "neg=0\n",
    "pos=0\n",
    "odd=0\n",
    "for i in a:\n",
    "    if i>0:\n",
    "        if i%2==0:\n",
    "            pos=pos+i\n",
    "        else:\n",
    "            odd=odd+i\n",
    "    else:\n",
    "        neg=neg+i\n",
    "print(\"Sum of Negative no:\",neg)\n",
    "print(\"Sum of Odd No:\",odd)\n",
    "print(\"Sum of Positive no:\",pos)"
   ]
  }
 ],
 "metadata": {
  "kernelspec": {
   "display_name": "Python 3.11.0 64-bit",
   "language": "python",
   "name": "python3"
  },
  "language_info": {
   "codemirror_mode": {
    "name": "ipython",
    "version": 3
   },
   "file_extension": ".py",
   "mimetype": "text/x-python",
   "name": "python",
   "nbconvert_exporter": "python",
   "pygments_lexer": "ipython3",
   "version": "3.11.0"
  },
  "orig_nbformat": 4,
  "vscode": {
   "interpreter": {
    "hash": "b699fa70f87e1ba39a363346864982e81fcc748143927c3e75552fb05836a65a"
   }
  }
 },
 "nbformat": 4,
 "nbformat_minor": 2
}
